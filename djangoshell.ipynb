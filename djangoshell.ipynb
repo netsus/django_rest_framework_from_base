{
 "cells": [
  {
   "cell_type": "code",
   "execution_count": 5,
   "id": "fb539106",
   "metadata": {
    "ExecuteTime": {
     "end_time": "2022-08-11T00:51:03.256637Z",
     "start_time": "2022-08-11T00:51:03.253466Z"
    }
   },
   "outputs": [],
   "source": [
    "import os"
   ]
  },
  {
   "cell_type": "code",
   "execution_count": 9,
   "id": "8f488276",
   "metadata": {
    "ExecuteTime": {
     "end_time": "2022-08-11T00:51:13.473729Z",
     "start_time": "2022-08-11T00:51:13.464001Z"
    }
   },
   "outputs": [],
   "source": [
    "os.environ[\"DJANGO_ALLOW_ASYNC_UNSAFE\"] = \"true\""
   ]
  },
  {
   "cell_type": "code",
   "execution_count": 1,
   "id": "4b087e77",
   "metadata": {
    "ExecuteTime": {
     "end_time": "2022-08-11T00:50:00.546976Z",
     "start_time": "2022-08-11T00:50:00.544664Z"
    }
   },
   "outputs": [],
   "source": [
    "from blog.models import Post, Comment, Category, Tag"
   ]
  },
  {
   "cell_type": "code",
   "execution_count": 7,
   "id": "b56efc05",
   "metadata": {
    "ExecuteTime": {
     "end_time": "2022-08-11T00:51:05.547817Z",
     "start_time": "2022-08-11T00:51:05.539037Z"
    }
   },
   "outputs": [],
   "source": [
    "cateList = Category.objects.all()\n",
    "tagList = Tag.objects.all()"
   ]
  },
  {
   "cell_type": "code",
   "execution_count": 8,
   "id": "51a55b4b",
   "metadata": {
    "ExecuteTime": {
     "end_time": "2022-08-11T00:51:06.414510Z",
     "start_time": "2022-08-11T00:51:06.403298Z"
    }
   },
   "outputs": [
    {
     "data": {
      "text/plain": [
       "<QuerySet [<Category: IT>, <Category: Django>, <Category: 일상생활>]>"
      ]
     },
     "execution_count": 8,
     "metadata": {},
     "output_type": "execute_result"
    }
   ],
   "source": [
    "cateList"
   ]
  },
  {
   "cell_type": "code",
   "execution_count": 10,
   "id": "eaa364c5",
   "metadata": {
    "ExecuteTime": {
     "end_time": "2022-08-11T00:51:24.455689Z",
     "start_time": "2022-08-11T00:51:24.448261Z"
    }
   },
   "outputs": [],
   "source": [
    "data = {\n",
    "    'cateList': cateList,\n",
    "    'tagList': tagList,\n",
    "}"
   ]
  },
  {
   "cell_type": "code",
   "execution_count": 12,
   "id": "e00a79b7",
   "metadata": {
    "ExecuteTime": {
     "end_time": "2022-08-11T00:52:25.271817Z",
     "start_time": "2022-08-11T00:52:25.249657Z"
    }
   },
   "outputs": [
    {
     "ename": "ImportError",
     "evalue": "cannot import name 'CateTagSerializer' from 'api2.serializers' (/Users/cwj/ToyProject/01_web_development/inflearn-upload/VueDjAgencyDrf-untilCh2-3/api2/serializers.py)",
     "output_type": "error",
     "traceback": [
      "\u001b[0;31m---------------------------------------------------------------------------\u001b[0m",
      "\u001b[0;31mImportError\u001b[0m                               Traceback (most recent call last)",
      "Input \u001b[0;32mIn [12]\u001b[0m, in \u001b[0;36m<cell line: 1>\u001b[0;34m()\u001b[0m\n\u001b[0;32m----> 1\u001b[0m \u001b[38;5;28;01mfrom\u001b[39;00m \u001b[38;5;21;01mapi2\u001b[39;00m\u001b[38;5;21;01m.\u001b[39;00m\u001b[38;5;21;01mserializers\u001b[39;00m \u001b[38;5;28;01mimport\u001b[39;00m CateTagSerializer\n",
      "\u001b[0;31mImportError\u001b[0m: cannot import name 'CateTagSerializer' from 'api2.serializers' (/Users/cwj/ToyProject/01_web_development/inflearn-upload/VueDjAgencyDrf-untilCh2-3/api2/serializers.py)"
     ]
    }
   ],
   "source": [
    "from api2.serializers import CateTagSerializer"
   ]
  },
  {
   "cell_type": "code",
   "execution_count": null,
   "id": "aa0b987d",
   "metadata": {},
   "outputs": [],
   "source": []
  }
 ],
 "metadata": {
  "kernelspec": {
   "display_name": "Django Shell-Plus",
   "language": "python",
   "name": "django_extensions"
  },
  "language_info": {
   "codemirror_mode": {
    "name": "ipython",
    "version": 3
   },
   "file_extension": ".py",
   "mimetype": "text/x-python",
   "name": "python",
   "nbconvert_exporter": "python",
   "pygments_lexer": "ipython3",
   "version": "3.8.9"
  },
  "toc": {
   "base_numbering": 1,
   "nav_menu": {},
   "number_sections": true,
   "sideBar": true,
   "skip_h1_title": false,
   "title_cell": "Table of Contents",
   "title_sidebar": "Contents",
   "toc_cell": false,
   "toc_position": {},
   "toc_section_display": true,
   "toc_window_display": false
  }
 },
 "nbformat": 4,
 "nbformat_minor": 5
}
